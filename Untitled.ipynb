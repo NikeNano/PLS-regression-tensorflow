{
 "cells": [
  {
   "cell_type": "code",
   "execution_count": 2,
   "metadata": {},
   "outputs": [],
   "source": [
    "import tensorflow as tf\n",
    "import os"
   ]
  },
  {
   "cell_type": "code",
   "execution_count": 3,
   "metadata": {},
   "outputs": [],
   "source": [
    "X = tf.constant([[1.0, 2.0], [3.0, 4.0],[1.0, 2.0],[1.0, 2.0]])\n",
    "Y = tf.constant([[1.0], [0.0],[1.0],[0.0]])\n",
    "w_init = tf.random_normal_initializer()\n",
    "w = tf.Variable(initial_value=w_init(shape=(1, X.shape[0]),\n",
    "                                     dtype='float32'),trainable=True)\n",
    "t = tf.Variable(initial_value=w_init(shape=(X.shape[0],1),\n",
    "                                     dtype='float32'),trainable=True)\n"
   ]
  },
  {
   "cell_type": "code",
   "execution_count": 34,
   "metadata": {},
   "outputs": [],
   "source": [
    "u_a = tf.Variable(initial_value=w_init(shape=(X.shape[0],1),\n",
    "                                     dtype='float32'),trainable=True)\n",
    "u_a_old = tf.Variable(tf.zeros(shape=(X.shape[0],1),\n",
    "                                     dtype='float32'),trainable=True)\n",
    "\n",
    "\n",
    "start = True\n",
    "threshold = 0.001\n",
    "for i in range(10):\n",
    "    while tf.reduce_sum(tf.abs(u_a - u_a_old)) > threshold:\n",
    "        u_a_old = u_a\n",
    "        w_a = ((tf.matmul(tf.transpose(X),u_a))/(tf.matmul(tf.transpose(u_a),u_a)))\n",
    "        w_a = w_a/tf.sqrt(tf.matmul(tf.transpose(w_a),w_a))\n",
    "        t_a = (tf.matmul(X,w_a))/(tf.matmul(tf.transpose(w_a),w_a))\n",
    "        c_a = ((tf.matmul(tf.transpose(Y),t_a))/(tf.matmul(tf.transpose(t_a),t_a)))\n",
    "        u_a = (tf.matmul(Y,c_a))/(tf.matmul(tf.transpose(c_a),c_a))\n",
    "    if start:\n",
    "        w = w_a\n",
    "        t = t_a\n",
    "        c = c_a\n",
    "        u = u_a\n",
    "    else:  \n",
    "        w = tf.concat([w,w_a],1)\n",
    "        t = tf.concat([t,t_a],1)\n",
    "        c = tf.concat([c,c_a],1)\n",
    "        u = tf.concat([u,u_a],1)\n",
    "    start = False\n",
    "    X = X - t_a * tf.transpose(tf.matmul(tf.transpose(X),t_a)/tf.matmul(tf.transpose(t_a),t_a))\n",
    "    Y = Y - tf.matmul(t_a,tf.transpose(c_a))"
   ]
  },
  {
   "cell_type": "code",
   "execution_count": 33,
   "metadata": {},
   "outputs": [
    {
     "data": {
      "text/plain": [
       "<tf.Tensor: id=1909, shape=(4, 10), dtype=float32, numpy=\n",
       "array([[-1.5060893e-07, -1.5060893e-07, -1.5060893e-07, -1.5060893e-07,\n",
       "        -1.5060893e-07, -1.5060893e-07, -1.5060893e-07, -1.5060893e-07,\n",
       "        -1.5060893e-07, -1.5060893e-07],\n",
       "       [ 1.0152386e-06,  1.0152386e-06,  1.0152386e-06,  1.0152386e-06,\n",
       "         1.0152386e-06,  1.0152386e-06,  1.0152386e-06,  1.0152386e-06,\n",
       "         1.0152386e-06,  1.0152386e-06],\n",
       "       [-1.5060893e-07, -1.5060893e-07, -1.5060893e-07, -1.5060893e-07,\n",
       "        -1.5060893e-07, -1.5060893e-07, -1.5060893e-07, -1.5060893e-07,\n",
       "        -1.5060893e-07, -1.5060893e-07],\n",
       "       [ 1.6317488e-06,  1.6317488e-06,  1.6317488e-06,  1.6317488e-06,\n",
       "         1.6317488e-06,  1.6317488e-06,  1.6317488e-06,  1.6317488e-06,\n",
       "         1.6317488e-06,  1.6317488e-06]], dtype=float32)>"
      ]
     },
     "execution_count": 33,
     "metadata": {},
     "output_type": "execute_result"
    }
   ],
   "source": [
    "x"
   ]
  },
  {
   "cell_type": "code",
   "execution_count": null,
   "metadata": {},
   "outputs": [],
   "source": []
  }
 ],
 "metadata": {
  "kernelspec": {
   "display_name": "Python 3",
   "language": "python",
   "name": "python3"
  },
  "language_info": {
   "codemirror_mode": {
    "name": "ipython",
    "version": 3
   },
   "file_extension": ".py",
   "mimetype": "text/x-python",
   "name": "python",
   "nbconvert_exporter": "python",
   "pygments_lexer": "ipython3",
   "version": "3.7.3"
  }
 },
 "nbformat": 4,
 "nbformat_minor": 2
}
