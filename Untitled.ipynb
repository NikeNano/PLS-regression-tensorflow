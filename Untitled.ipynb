{
 "cells": [
  {
   "cell_type": "code",
   "execution_count": 3,
   "metadata": {},
   "outputs": [],
   "source": [
    "import tensorflow as tf\n",
    "import os"
   ]
  },
  {
   "cell_type": "code",
   "execution_count": 79,
   "metadata": {},
   "outputs": [],
   "source": [
    "X = tf.constant([[1.0, 2.0], [3.0, 4.0],[1.0, 2.0],[1.0, 2.0]])\n",
    "Y = tf.constant([[1.0], [0.0],[1.0],[0.0]])\n",
    "w_init = tf.random_normal_initializer()\n",
    "w = tf.Variable(initial_value=w_init(shape=(1, X.shape[0]),\n",
    "                                     dtype='float32'),trainable=True)\n",
    "t = tf.Variable(initial_value=w_init(shape=(X.shape[0],1),\n",
    "                                     dtype='float32'),trainable=True)\n"
   ]
  },
  {
   "cell_type": "code",
   "execution_count": 86,
   "metadata": {},
   "outputs": [
    {
     "name": "stdout",
     "output_type": "stream",
     "text": [
      "start\n",
      "tf.Tensor(17.422777, shape=(), dtype=float32)\n",
      "start\n",
      "tf.Tensor(0.016796112, shape=(), dtype=float32)\n",
      "start\n",
      "tf.Tensor(1.9073486e-06, shape=(), dtype=float32)\n"
     ]
    }
   ],
   "source": [
    "u_a = tf.Variable(initial_value=w_init(shape=(X.shape[0],1),\n",
    "                                     dtype='float32'),trainable=True)\n",
    "u_a_old = tf.Variable(tf.zeros(shape=(X.shape[0],1),\n",
    "                                     dtype='float32'),trainable=True)\n",
    "threshold = 0.001\n",
    "while tf.reduce_sum(tf.abs(u_a - u_a_old)) > threshold:\n",
    "    u_a_old = u_a\n",
    "    print(\"start\")\n",
    "    w_a = ((tf.matmul(tf.transpose(X),u_a))/(tf.matmul(tf.transpose(u_a),u_a)))\n",
    "    w_a = w_a/tf.sqrt(tf.matmul(tf.transpose(w_a),w_a))\n",
    "    t_a = (tf.matmul(X,w_a))/(tf.matmul(tf.transpose(w_a),w_a))\n",
    "    c_a = ((tf.matmul(tf.transpose(Y),t_a))/(tf.matmul(tf.transpose(t_a),t_a)))\n",
    "    u_a = (tf.matmul(Y,c_a))/(tf.matmul(tf.transpose(c_a),c_a))\n",
    "    print(tf.reduce_sum(tf.abs(u_a - u_a_old)))"
   ]
  },
  {
   "cell_type": "code",
   "execution_count": 88,
   "metadata": {},
   "outputs": [
    {
     "data": {
      "text/plain": [
       "<tf.Tensor: id=3212, shape=(4, 1), dtype=float32, numpy=\n",
       "array([[-8.765387],\n",
       "       [ 0.      ],\n",
       "       [-8.765387],\n",
       "       [ 0.      ]], dtype=float32)>"
      ]
     },
     "execution_count": 88,
     "metadata": {},
     "output_type": "execute_result"
    }
   ],
   "source": [
    "u_a_old"
   ]
  },
  {
   "cell_type": "code",
   "execution_count": null,
   "metadata": {},
   "outputs": [],
   "source": []
  }
 ],
 "metadata": {
  "kernelspec": {
   "display_name": "Python 3",
   "language": "python",
   "name": "python3"
  },
  "language_info": {
   "codemirror_mode": {
    "name": "ipython",
    "version": 3
   },
   "file_extension": ".py",
   "mimetype": "text/x-python",
   "name": "python",
   "nbconvert_exporter": "python",
   "pygments_lexer": "ipython3",
   "version": "3.7.3"
  }
 },
 "nbformat": 4,
 "nbformat_minor": 2
}
