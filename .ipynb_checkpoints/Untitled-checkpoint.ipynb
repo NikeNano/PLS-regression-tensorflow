{
 "cells": [
  {
   "cell_type": "code",
   "execution_count": 3,
   "metadata": {},
   "outputs": [],
   "source": [
    "import tensorflow as tf\n",
    "import os"
   ]
  },
  {
   "cell_type": "code",
   "execution_count": 54,
   "metadata": {},
   "outputs": [],
   "source": [
    "X = tf.constant([[1.0, 2.0], [3.0, 4.0],[1.0, 2.0],[1.0, 2.0]])\n",
    "Y = tf.constant([[1.0], [0.0],[1.0],[0.0]])\n",
    "w_init = tf.random_normal_initializer()\n",
    "w = tf.Variable(initial_value=w_init(shape=(1, X.shape[0]),\n",
    "                                     dtype='float32'),trainable=True)\n",
    "t = tf.Variable(initial_value=w_init(shape=(X.shape[0],1),\n",
    "                                     dtype='float32'),trainable=True)\n"
   ]
  },
  {
   "cell_type": "code",
   "execution_count": 68,
   "metadata": {},
   "outputs": [
    {
     "name": "stdout",
     "output_type": "stream",
     "text": [
      "tf.Tensor(17.89709, shape=(), dtype=float32)\n",
      "tf.Tensor(0.0, shape=(), dtype=float32)\n"
     ]
    }
   ],
   "source": [
    "u_a = tf.Variable(initial_value=w_init(shape=(X.shape[0],1),\n",
    "                                     dtype='float32'),trainable=True)\n",
    "u_a_old = tf.Variable(tf.zeros(shape=(X.shape[0],1),\n",
    "                                     dtype='float32'),trainable=True)\n",
    "\n",
    "while \n",
    "    w_a = ((tf.matmul(tf.transpose(X),u_a))/(tf.matmul(tf.transpose(u_a),u_a)))\n",
    "    w_a = w_a/tf.sqrt(tf.matmul(tf.transpose(w_a),w_a))\n",
    "    t_a = (tf.matmul(X,w_a))/(tf.matmul(tf.transpose(w_a),w_a))\n",
    "    c_a = ((tf.matmul(tf.transpose(Y),t_a))/(tf.matmul(tf.transpose(t_a),t_a)))\n",
    "    u_a = (tf.matmul(Y,c_a))/(tf.matmul(tf.transpose(c_a),c_a))\n",
    "    update = tf.reduce_sum(u_a - u_a_old)\n",
    "    if update <0.001:\n",
    "        break\n",
    "    u_a_old = u_a"
   ]
  },
  {
   "cell_type": "code",
   "execution_count": 67,
   "metadata": {},
   "outputs": [
    {
     "name": "stdout",
     "output_type": "stream",
     "text": [
      "tf.Tensor(0.0, shape=(), dtype=float32)\n"
     ]
    }
   ],
   "source": [
    "print(tf.reduce_sum(u_a - u_a_old))"
   ]
  },
  {
   "cell_type": "code",
   "execution_count": 48,
   "metadata": {},
   "outputs": [
    {
     "ename": "NameError",
     "evalue": "name 'u_a_okd' is not defined",
     "output_type": "error",
     "traceback": [
      "\u001b[0;31m---------------------------------------------------------------------------\u001b[0m",
      "\u001b[0;31mNameError\u001b[0m                                 Traceback (most recent call last)",
      "\u001b[0;32m<ipython-input-48-f8e590ca56c9>\u001b[0m in \u001b[0;36m<module>\u001b[0;34m\u001b[0m\n\u001b[0;32m----> 1\u001b[0;31m \u001b[0mu_a_okd\u001b[0m\u001b[0;34m\u001b[0m\u001b[0;34m\u001b[0m\u001b[0m\n\u001b[0m",
      "\u001b[0;31mNameError\u001b[0m: name 'u_a_okd' is not defined"
     ]
    }
   ],
   "source": [
    "u_a_old"
   ]
  },
  {
   "cell_type": "code",
   "execution_count": null,
   "metadata": {},
   "outputs": [],
   "source": []
  }
 ],
 "metadata": {
  "kernelspec": {
   "display_name": "Python 3",
   "language": "python",
   "name": "python3"
  },
  "language_info": {
   "codemirror_mode": {
    "name": "ipython",
    "version": 3
   },
   "file_extension": ".py",
   "mimetype": "text/x-python",
   "name": "python",
   "nbconvert_exporter": "python",
   "pygments_lexer": "ipython3",
   "version": "3.7.3"
  }
 },
 "nbformat": 4,
 "nbformat_minor": 2
}
