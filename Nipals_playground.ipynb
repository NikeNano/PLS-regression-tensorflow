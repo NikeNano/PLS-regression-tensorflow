{
 "cells": [
  {
   "cell_type": "code",
   "execution_count": 1,
   "metadata": {},
   "outputs": [
    {
     "name": "stdout",
     "output_type": "stream",
     "text": [
      "Requirement already satisfied: tensorflow==2.0.0-beta1 in /opt/conda/lib/python3.6/site-packages (2.0.0b1)\n",
      "Requirement already satisfied: google-pasta>=0.1.6 in /opt/conda/lib/python3.6/site-packages (from tensorflow==2.0.0-beta1) (0.1.7)\n",
      "Requirement already satisfied: absl-py>=0.7.0 in /opt/conda/lib/python3.6/site-packages (from tensorflow==2.0.0-beta1) (0.7.1)\n",
      "Requirement already satisfied: wheel>=0.26 in /opt/conda/lib/python3.6/site-packages (from tensorflow==2.0.0-beta1) (0.33.4)\n",
      "Requirement already satisfied: keras-applications>=1.0.6 in /opt/conda/lib/python3.6/site-packages (from tensorflow==2.0.0-beta1) (1.0.7)\n",
      "Requirement already satisfied: protobuf>=3.6.1 in /opt/conda/lib/python3.6/site-packages (from tensorflow==2.0.0-beta1) (3.9.1)\n",
      "Requirement already satisfied: tf-estimator-nightly<1.14.0.dev2019060502,>=1.14.0.dev2019060501 in /opt/conda/lib/python3.6/site-packages (from tensorflow==2.0.0-beta1) (1.14.0.dev2019060501)\n",
      "Requirement already satisfied: termcolor>=1.1.0 in /opt/conda/lib/python3.6/site-packages (from tensorflow==2.0.0-beta1) (1.1.0)\n",
      "Requirement already satisfied: wrapt>=1.11.1 in /opt/conda/lib/python3.6/site-packages (from tensorflow==2.0.0-beta1) (1.11.2)\n",
      "Requirement already satisfied: astor>=0.6.0 in /opt/conda/lib/python3.6/site-packages (from tensorflow==2.0.0-beta1) (0.7.1)\n",
      "Requirement already satisfied: tb-nightly<1.14.0a20190604,>=1.14.0a20190603 in /opt/conda/lib/python3.6/site-packages (from tensorflow==2.0.0-beta1) (1.14.0a20190603)\n",
      "Requirement already satisfied: numpy<2.0,>=1.14.5 in /opt/conda/lib/python3.6/site-packages (from tensorflow==2.0.0-beta1) (1.17.0)\n",
      "Requirement already satisfied: six>=1.10.0 in /opt/conda/lib/python3.6/site-packages (from tensorflow==2.0.0-beta1) (1.12.0)\n",
      "Requirement already satisfied: grpcio>=1.8.6 in /opt/conda/lib/python3.6/site-packages (from tensorflow==2.0.0-beta1) (1.16.1)\n",
      "Requirement already satisfied: keras-preprocessing>=1.0.5 in /opt/conda/lib/python3.6/site-packages (from tensorflow==2.0.0-beta1) (1.0.9)\n",
      "Requirement already satisfied: gast>=0.2.0 in /opt/conda/lib/python3.6/site-packages (from tensorflow==2.0.0-beta1) (0.2.2)\n",
      "Requirement already satisfied: h5py in /opt/conda/lib/python3.6/site-packages (from keras-applications>=1.0.6->tensorflow==2.0.0-beta1) (2.9.0)\n",
      "Requirement already satisfied: setuptools in /opt/conda/lib/python3.6/site-packages (from protobuf>=3.6.1->tensorflow==2.0.0-beta1) (41.0.1)\n",
      "Requirement already satisfied: markdown>=2.6.8 in /opt/conda/lib/python3.6/site-packages (from tb-nightly<1.14.0a20190604,>=1.14.0a20190603->tensorflow==2.0.0-beta1) (3.1.1)\n",
      "Requirement already satisfied: werkzeug>=0.11.15 in /opt/conda/lib/python3.6/site-packages (from tb-nightly<1.14.0a20190604,>=1.14.0a20190603->tensorflow==2.0.0-beta1) (0.15.5)\n"
     ]
    }
   ],
   "source": [
    "!pip install tensorflow==2.0.0-beta1"
   ]
  },
  {
   "cell_type": "code",
   "execution_count": 2,
   "metadata": {},
   "outputs": [],
   "source": [
    "from sklearn import datasets\n",
    "from sklearn.utils import check_array\n",
    "iris = datasets.load_iris()"
   ]
  },
  {
   "cell_type": "code",
   "execution_count": 37,
   "metadata": {},
   "outputs": [],
   "source": [
    "X = iris.data  # we only take the first two features.\n",
    "Y = iris.target\n",
    "\n",
    "X = check_array(X, dtype=np.float64,\n",
    "                ensure_min_samples=2)\n",
    "Y = check_array(Y, dtype=np.float64,ensure_2d=False)\n",
    "\n",
    "if Y.ndim == 1:\n",
    "            Y = Y.reshape(-1, 1)"
   ]
  },
  {
   "cell_type": "code",
   "execution_count": 38,
   "metadata": {},
   "outputs": [
    {
     "data": {
      "text/plain": [
       "'2.0.0-beta1'"
      ]
     },
     "execution_count": 38,
     "metadata": {},
     "output_type": "execute_result"
    }
   ],
   "source": [
    "import tensorflow as tf\n",
    "tf.__version__"
   ]
  },
  {
   "cell_type": "code",
   "execution_count": 107,
   "metadata": {},
   "outputs": [],
   "source": [
    "def _nipals_twoblocks_inner_loop(X, Y, mode=\"A\", max_iter=500, tol=1e-06,\n",
    "                                 norm_y_weights=False):\n",
    "    \"\"\"Inner loop of the iterative NIPALS algorithm.\n",
    "    Provides an alternative to the svd(X'Y); returns the first left and right\n",
    "    singular vectors of X'Y.  See PLS for the meaning of the parameters.  It is\n",
    "    similar to the Power method for determining the eigenvectors and\n",
    "    eigenvalues of a X'Y.\n",
    "    \"\"\"\n",
    "    y_score = Y[:, [0]]\n",
    "    x_weights_old = 0\n",
    "    ite = 1\n",
    "    X_pinv = Y_pinv = None\n",
    "    eps = 2.220446049250313e-16 #np.finfo(X.dtype).eps\n",
    "    # Inner loop of the Wold algo.\n",
    "    while True:\n",
    "        # 1.1 Update u: the X weights\n",
    "        if mode == \"B\":\n",
    "            if X_pinv is None:\n",
    "                # We use slower pinv2 (same as np.linalg.pinv) for stability\n",
    "                # reasons\n",
    "                X_pinv = pinv2(X, check_finite=False)\n",
    "            x_weights = np.dot(X_pinv, y_score)\n",
    "        else:  # mode A\n",
    "            # Mode A regress each X column on y_score\n",
    "            x_weights = np.dot(X.T, y_score) / np.dot(y_score.T, y_score)\n",
    "        \n",
    "        # If y_score only has zeros x_weights will only have zeros. In\n",
    "        # this case add an epsilon to converge to a more acceptable\n",
    "        # solution\n",
    "        if np.dot(x_weights.T, x_weights) < eps:\n",
    "            x_weights += eps\n",
    "        # 1.2 Normalize u\n",
    "        x_weights /= np.sqrt(np.dot(x_weights.T, x_weights)) + eps\n",
    "        # 1.3 Update x_score: the X latent scores\n",
    "        x_score = np.dot(X, x_weights)\n",
    "        # 2.1 Update y_weights\n",
    "        if mode == \"B\":\n",
    "            if Y_pinv is None:\n",
    "                Y_pinv = pinv2(Y, check_finite=False)  # compute once pinv(Y)\n",
    "            y_weights = np.dot(Y_pinv, x_score)\n",
    "        else:\n",
    "            # Mode A regress each Y column on x_score\n",
    "            y_weights = np.dot(Y.T, x_score) / np.dot(x_score.T, x_score)\n",
    "        # 2.2 Normalize y_weights\n",
    "        if norm_y_weights:\n",
    "            y_weights /= np.sqrt(np.dot(y_weights.T, y_weights)) + eps\n",
    "        # 2.3 Update y_score: the Y latent scores\n",
    "        y_score = np.dot(Y, y_weights) / (np.dot(y_weights.T, y_weights) + eps)\n",
    "        # y_score = np.dot(Y, y_weights) / np.dot(y_score.T, y_score) ## BUG\n",
    "        x_weights_diff = x_weights - x_weights_old\n",
    "        print(x_weights_diff)\n",
    "        if np.dot(x_weights_diff.T, x_weights_diff) < tol or Y.shape[1] == 1:\n",
    "            break\n",
    "        if ite == max_iter:\n",
    "            warnings.warn('Maximum number of iterations reached',\n",
    "                          ConvergenceWarning)\n",
    "            break\n",
    "        x_weights_old = x_weights\n",
    "        ite += 1\n",
    "    return x_weights, y_weights, ite"
   ]
  },
  {
   "cell_type": "code",
   "execution_count": 108,
   "metadata": {},
   "outputs": [
    {
     "name": "stdout",
     "output_type": "stream",
     "text": [
      "[[ 0.        ]\n",
      " [ 0.        ]\n",
      " [ 0.        ]\n",
      " [ 0.        ]\n",
      " [ 0.        ]\n",
      " [ 0.        ]\n",
      " [ 0.        ]\n",
      " [ 0.        ]\n",
      " [ 0.        ]\n",
      " [ 0.        ]\n",
      " [ 0.        ]\n",
      " [ 0.        ]\n",
      " [ 0.        ]\n",
      " [ 0.        ]\n",
      " [ 0.        ]\n",
      " [ 0.        ]\n",
      " [ 0.        ]\n",
      " [ 0.        ]\n",
      " [ 0.        ]\n",
      " [ 0.        ]\n",
      " [ 0.        ]\n",
      " [ 0.        ]\n",
      " [ 0.        ]\n",
      " [ 0.        ]\n",
      " [ 0.        ]\n",
      " [ 0.        ]\n",
      " [ 0.        ]\n",
      " [ 0.        ]\n",
      " [ 0.        ]\n",
      " [ 0.        ]\n",
      " [ 0.        ]\n",
      " [ 0.        ]\n",
      " [ 0.        ]\n",
      " [ 0.        ]\n",
      " [ 0.        ]\n",
      " [ 0.        ]\n",
      " [ 0.        ]\n",
      " [ 0.        ]\n",
      " [ 0.        ]\n",
      " [ 0.        ]\n",
      " [ 0.        ]\n",
      " [ 0.        ]\n",
      " [ 0.        ]\n",
      " [ 0.        ]\n",
      " [ 0.        ]\n",
      " [ 0.        ]\n",
      " [ 0.        ]\n",
      " [ 0.        ]\n",
      " [ 0.        ]\n",
      " [ 0.        ]\n",
      " [ 6.86882412]\n",
      " [ 6.86882412]\n",
      " [ 6.86882412]\n",
      " [ 6.86882412]\n",
      " [ 6.86882412]\n",
      " [ 6.86882412]\n",
      " [ 6.86882412]\n",
      " [ 6.86882412]\n",
      " [ 6.86882412]\n",
      " [ 6.86882412]\n",
      " [ 6.86882412]\n",
      " [ 6.86882412]\n",
      " [ 6.86882412]\n",
      " [ 6.86882412]\n",
      " [ 6.86882412]\n",
      " [ 6.86882412]\n",
      " [ 6.86882412]\n",
      " [ 6.86882412]\n",
      " [ 6.86882412]\n",
      " [ 6.86882412]\n",
      " [ 6.86882412]\n",
      " [ 6.86882412]\n",
      " [ 6.86882412]\n",
      " [ 6.86882412]\n",
      " [ 6.86882412]\n",
      " [ 6.86882412]\n",
      " [ 6.86882412]\n",
      " [ 6.86882412]\n",
      " [ 6.86882412]\n",
      " [ 6.86882412]\n",
      " [ 6.86882412]\n",
      " [ 6.86882412]\n",
      " [ 6.86882412]\n",
      " [ 6.86882412]\n",
      " [ 6.86882412]\n",
      " [ 6.86882412]\n",
      " [ 6.86882412]\n",
      " [ 6.86882412]\n",
      " [ 6.86882412]\n",
      " [ 6.86882412]\n",
      " [ 6.86882412]\n",
      " [ 6.86882412]\n",
      " [ 6.86882412]\n",
      " [ 6.86882412]\n",
      " [ 6.86882412]\n",
      " [ 6.86882412]\n",
      " [ 6.86882412]\n",
      " [ 6.86882412]\n",
      " [ 6.86882412]\n",
      " [ 6.86882412]\n",
      " [13.73764825]\n",
      " [13.73764825]\n",
      " [13.73764825]\n",
      " [13.73764825]\n",
      " [13.73764825]\n",
      " [13.73764825]\n",
      " [13.73764825]\n",
      " [13.73764825]\n",
      " [13.73764825]\n",
      " [13.73764825]\n",
      " [13.73764825]\n",
      " [13.73764825]\n",
      " [13.73764825]\n",
      " [13.73764825]\n",
      " [13.73764825]\n",
      " [13.73764825]\n",
      " [13.73764825]\n",
      " [13.73764825]\n",
      " [13.73764825]\n",
      " [13.73764825]\n",
      " [13.73764825]\n",
      " [13.73764825]\n",
      " [13.73764825]\n",
      " [13.73764825]\n",
      " [13.73764825]\n",
      " [13.73764825]\n",
      " [13.73764825]\n",
      " [13.73764825]\n",
      " [13.73764825]\n",
      " [13.73764825]\n",
      " [13.73764825]\n",
      " [13.73764825]\n",
      " [13.73764825]\n",
      " [13.73764825]\n",
      " [13.73764825]\n",
      " [13.73764825]\n",
      " [13.73764825]\n",
      " [13.73764825]\n",
      " [13.73764825]\n",
      " [13.73764825]\n",
      " [13.73764825]\n",
      " [13.73764825]\n",
      " [13.73764825]\n",
      " [13.73764825]\n",
      " [13.73764825]\n",
      " [13.73764825]\n",
      " [13.73764825]\n",
      " [13.73764825]\n",
      " [13.73764825]\n",
      " [13.73764825]]\n",
      "[[0.71916359]\n",
      " [0.32804877]\n",
      " [0.57813046]\n",
      " [0.20236824]]\n"
     ]
    },
    {
     "data": {
      "text/plain": [
       "(array([[0.71916359],\n",
       "        [0.32804877],\n",
       "        [0.57813046],\n",
       "        [0.20236824]]), array([[0.14558533]]), 1)"
      ]
     },
     "execution_count": 108,
     "metadata": {},
     "output_type": "execute_result"
    }
   ],
   "source": [
    "_nipals_twoblocks_inner_loop(X,Y)"
   ]
  },
  {
   "cell_type": "code",
   "execution_count": 62,
   "metadata": {},
   "outputs": [],
   "source": [
    "Xt = tf.convert_to_tensor(X)\n",
    "Yt = tf.convert_to_tensor(Y)"
   ]
  },
  {
   "cell_type": "code",
   "execution_count": 81,
   "metadata": {},
   "outputs": [
    {
     "data": {
      "text/plain": [
       "<tf.Tensor: id=484, shape=(150,), dtype=float32, numpy=\n",
       "array([0., 0., 0., 0., 0., 0., 0., 0., 0., 0., 0., 0., 0., 0., 0., 0., 0.,\n",
       "       0., 0., 0., 0., 0., 0., 0., 0., 0., 0., 0., 0., 0., 0., 0., 0., 0.,\n",
       "       0., 0., 0., 0., 0., 0., 0., 0., 0., 0., 0., 0., 0., 0., 0., 0., 0.,\n",
       "       0., 0., 0., 0., 0., 0., 0., 0., 0., 0., 0., 0., 0., 0., 0., 0., 0.,\n",
       "       0., 0., 0., 0., 0., 0., 0., 0., 0., 0., 0., 0., 0., 0., 0., 0., 0.,\n",
       "       0., 0., 0., 0., 0., 0., 0., 0., 0., 0., 0., 0., 0., 0., 0., 0., 0.,\n",
       "       0., 0., 0., 0., 0., 0., 0., 0., 0., 0., 0., 0., 0., 0., 0., 0., 0.,\n",
       "       0., 0., 0., 0., 0., 0., 0., 0., 0., 0., 0., 0., 0., 0., 0., 0., 0.,\n",
       "       0., 0., 0., 0., 0., 0., 0., 0., 0., 0., 0., 0., 0., 0.],\n",
       "      dtype=float32)>"
      ]
     },
     "execution_count": 81,
     "metadata": {},
     "output_type": "execute_result"
    }
   ],
   "source": [
    "tf.zeros(X.shape[0])"
   ]
  },
  {
   "cell_type": "code",
   "execution_count": 109,
   "metadata": {},
   "outputs": [
    {
     "data": {
      "text/plain": [
       "TensorShape([150, 4])"
      ]
     },
     "execution_count": 109,
     "metadata": {},
     "output_type": "execute_result"
    }
   ],
   "source": [
    "Xt.shape"
   ]
  },
  {
   "cell_type": "code",
   "execution_count": 116,
   "metadata": {},
   "outputs": [],
   "source": [
    "def _nipals_tensorflow(X,Y, max_iter=500, tol=1e-06,norm_y_weights=False):\n",
    "    y_score = Y\n",
    "    x_weights_old = 0\n",
    "    ite = 1\n",
    "    X_pinv = Y_pinv = None\n",
    "    eps = 2.220446049250313e-16# np.finfo(X.dtype).eps\n",
    "    # Inner loop of the Wold algo.\n",
    "    while True:\n",
    "        #1. Regress into X\n",
    "        x_weights = tf.matmul(tf.transpose(X),y_score)/(tf.matmul(tf.transpose(y_score),y_score))\n",
    "        # 1.2 Normalize u\n",
    "        x_weights = x_weights/tf.math.sqrt(tf.matmul(tf.transpose(x_weights),x_weights))\n",
    "        \n",
    "        # 1.3 Update x_score: the X latent scores\n",
    "        x_score = tf.matmul(X,x_weights)/tf.matmul(tf.transpose(x_weights),x_weights)\n",
    "        #2. Regress into Y\n",
    "        y_weights = tf.matmul(tf.transpose(Y),x_score)/(tf.matmul(tf.transpose(x_score),x_score))\n",
    "        # 2.1 Normalize y_weights\n",
    "        y_weights /= y_weights/tf.math.sqrt(tf.matmul(tf.transpose(y_weights),y_weights))\n",
    "        # 2.2 Update y_score: the Y latent scores\n",
    "        y_score = tf.matmul(Y,y_weights)/tf.matmul(tf.transpose(y_weights),y_weights)\n",
    "        x_weights_diff = tf.math.subtract(x_weights,x_weights_old)\n",
    "        print(x_weights_diff)\n",
    "        if tf.matmul(tf.transpose(x_weights_diff),x_weights_diff) < tol or Y.shape[1] ==1:\n",
    "            break\n",
    "        if ite == max_iter:\n",
    "            warnings.warn('Maximum number of iterations reached',\n",
    "                          ConvergenceWarning)\n",
    "            break\n",
    "        x_weights_old = x_weights\n",
    "        ite += 1\n",
    "    return x_weights, y_weights, ite"
   ]
  },
  {
   "cell_type": "code",
   "execution_count": 117,
   "metadata": {},
   "outputs": [],
   "source": [
    "dtype=tf.dtypes.float64"
   ]
  },
  {
   "cell_type": "code",
   "execution_count": 118,
   "metadata": {},
   "outputs": [
    {
     "name": "stdout",
     "output_type": "stream",
     "text": [
      "(150, 4)\n"
     ]
    },
    {
     "ename": "InvalidArgumentError",
     "evalue": "Incompatible shapes: [4,1] vs. [150,4] [Op:Sub]",
     "output_type": "error",
     "traceback": [
      "\u001b[0;31m---------------------------------------------------------------------------\u001b[0m",
      "\u001b[0;31mInvalidArgumentError\u001b[0m                      Traceback (most recent call last)",
      "\u001b[0;32m<ipython-input-118-82a0a793e82a>\u001b[0m in \u001b[0;36m<module>\u001b[0;34m\u001b[0m\n\u001b[0;32m----> 1\u001b[0;31m \u001b[0m_nipals_tensorflow\u001b[0m\u001b[0;34m(\u001b[0m\u001b[0mXt\u001b[0m\u001b[0;34m,\u001b[0m\u001b[0mYt\u001b[0m\u001b[0;34m)\u001b[0m\u001b[0;34m\u001b[0m\u001b[0;34m\u001b[0m\u001b[0m\n\u001b[0m",
      "\u001b[0;32m<ipython-input-116-5e72083792ff>\u001b[0m in \u001b[0;36m_nipals_tensorflow\u001b[0;34m(X, Y, max_iter, tol, norm_y_weights)\u001b[0m\n\u001b[1;32m     21\u001b[0m         \u001b[0;31m# 2.2 Update y_score: the Y latent scores\u001b[0m\u001b[0;34m\u001b[0m\u001b[0;34m\u001b[0m\u001b[0;34m\u001b[0m\u001b[0m\n\u001b[1;32m     22\u001b[0m         \u001b[0my_score\u001b[0m \u001b[0;34m=\u001b[0m \u001b[0mtf\u001b[0m\u001b[0;34m.\u001b[0m\u001b[0mmatmul\u001b[0m\u001b[0;34m(\u001b[0m\u001b[0mY\u001b[0m\u001b[0;34m,\u001b[0m\u001b[0my_weights\u001b[0m\u001b[0;34m)\u001b[0m\u001b[0;34m/\u001b[0m\u001b[0mtf\u001b[0m\u001b[0;34m.\u001b[0m\u001b[0mmatmul\u001b[0m\u001b[0;34m(\u001b[0m\u001b[0mtf\u001b[0m\u001b[0;34m.\u001b[0m\u001b[0mtranspose\u001b[0m\u001b[0;34m(\u001b[0m\u001b[0my_weights\u001b[0m\u001b[0;34m)\u001b[0m\u001b[0;34m,\u001b[0m\u001b[0my_weights\u001b[0m\u001b[0;34m)\u001b[0m\u001b[0;34m\u001b[0m\u001b[0;34m\u001b[0m\u001b[0m\n\u001b[0;32m---> 23\u001b[0;31m         \u001b[0mx_weights_diff\u001b[0m \u001b[0;34m=\u001b[0m \u001b[0mtf\u001b[0m\u001b[0;34m.\u001b[0m\u001b[0mmath\u001b[0m\u001b[0;34m.\u001b[0m\u001b[0msubtract\u001b[0m\u001b[0;34m(\u001b[0m\u001b[0mx_weights\u001b[0m\u001b[0;34m,\u001b[0m\u001b[0mx_weights_old\u001b[0m\u001b[0;34m)\u001b[0m\u001b[0;34m\u001b[0m\u001b[0;34m\u001b[0m\u001b[0m\n\u001b[0m\u001b[1;32m     24\u001b[0m         \u001b[0mprint\u001b[0m\u001b[0;34m(\u001b[0m\u001b[0mx_weights_diff\u001b[0m\u001b[0;34m)\u001b[0m\u001b[0;34m\u001b[0m\u001b[0;34m\u001b[0m\u001b[0m\n\u001b[1;32m     25\u001b[0m         \u001b[0;32mif\u001b[0m \u001b[0mtf\u001b[0m\u001b[0;34m.\u001b[0m\u001b[0mmatmul\u001b[0m\u001b[0;34m(\u001b[0m\u001b[0mtf\u001b[0m\u001b[0;34m.\u001b[0m\u001b[0mtranspose\u001b[0m\u001b[0;34m(\u001b[0m\u001b[0mx_weights_diff\u001b[0m\u001b[0;34m)\u001b[0m\u001b[0;34m,\u001b[0m\u001b[0mx_weights_diff\u001b[0m\u001b[0;34m)\u001b[0m \u001b[0;34m<\u001b[0m \u001b[0mtol\u001b[0m \u001b[0;32mor\u001b[0m \u001b[0mY\u001b[0m\u001b[0;34m.\u001b[0m\u001b[0mshape\u001b[0m\u001b[0;34m[\u001b[0m\u001b[0;36m1\u001b[0m\u001b[0;34m]\u001b[0m \u001b[0;34m==\u001b[0m\u001b[0;36m1\u001b[0m\u001b[0;34m:\u001b[0m\u001b[0;34m\u001b[0m\u001b[0;34m\u001b[0m\u001b[0m\n",
      "\u001b[0;32m/opt/conda/lib/python3.6/site-packages/tensorflow/python/util/dispatch.py\u001b[0m in \u001b[0;36mwrapper\u001b[0;34m(*args, **kwargs)\u001b[0m\n\u001b[1;32m    178\u001b[0m     \u001b[0;34m\"\"\"Call target, and fall back on dispatchers if there is a TypeError.\"\"\"\u001b[0m\u001b[0;34m\u001b[0m\u001b[0;34m\u001b[0m\u001b[0m\n\u001b[1;32m    179\u001b[0m     \u001b[0;32mtry\u001b[0m\u001b[0;34m:\u001b[0m\u001b[0;34m\u001b[0m\u001b[0;34m\u001b[0m\u001b[0m\n\u001b[0;32m--> 180\u001b[0;31m       \u001b[0;32mreturn\u001b[0m \u001b[0mtarget\u001b[0m\u001b[0;34m(\u001b[0m\u001b[0;34m*\u001b[0m\u001b[0margs\u001b[0m\u001b[0;34m,\u001b[0m \u001b[0;34m**\u001b[0m\u001b[0mkwargs\u001b[0m\u001b[0;34m)\u001b[0m\u001b[0;34m\u001b[0m\u001b[0;34m\u001b[0m\u001b[0m\n\u001b[0m\u001b[1;32m    181\u001b[0m     \u001b[0;32mexcept\u001b[0m \u001b[0;34m(\u001b[0m\u001b[0mTypeError\u001b[0m\u001b[0;34m,\u001b[0m \u001b[0mValueError\u001b[0m\u001b[0;34m)\u001b[0m\u001b[0;34m:\u001b[0m\u001b[0;34m\u001b[0m\u001b[0;34m\u001b[0m\u001b[0m\n\u001b[1;32m    182\u001b[0m       \u001b[0;31m# Note: convert_to_eager_tensor currently raises a ValueError, not a\u001b[0m\u001b[0;34m\u001b[0m\u001b[0;34m\u001b[0m\u001b[0;34m\u001b[0m\u001b[0m\n",
      "\u001b[0;32m/opt/conda/lib/python3.6/site-packages/tensorflow/python/ops/math_ops.py\u001b[0m in \u001b[0;36msubtract\u001b[0;34m(x, y, name)\u001b[0m\n\u001b[1;32m    341\u001b[0m \u001b[0;34m@\u001b[0m\u001b[0mdispatch\u001b[0m\u001b[0;34m.\u001b[0m\u001b[0madd_dispatch_support\u001b[0m\u001b[0;34m\u001b[0m\u001b[0;34m\u001b[0m\u001b[0m\n\u001b[1;32m    342\u001b[0m \u001b[0;32mdef\u001b[0m \u001b[0msubtract\u001b[0m\u001b[0;34m(\u001b[0m\u001b[0mx\u001b[0m\u001b[0;34m,\u001b[0m \u001b[0my\u001b[0m\u001b[0;34m,\u001b[0m \u001b[0mname\u001b[0m\u001b[0;34m=\u001b[0m\u001b[0;32mNone\u001b[0m\u001b[0;34m)\u001b[0m\u001b[0;34m:\u001b[0m\u001b[0;34m\u001b[0m\u001b[0;34m\u001b[0m\u001b[0m\n\u001b[0;32m--> 343\u001b[0;31m   \u001b[0;32mreturn\u001b[0m \u001b[0mgen_math_ops\u001b[0m\u001b[0;34m.\u001b[0m\u001b[0msub\u001b[0m\u001b[0;34m(\u001b[0m\u001b[0mx\u001b[0m\u001b[0;34m,\u001b[0m \u001b[0my\u001b[0m\u001b[0;34m,\u001b[0m \u001b[0mname\u001b[0m\u001b[0;34m)\u001b[0m\u001b[0;34m\u001b[0m\u001b[0;34m\u001b[0m\u001b[0m\n\u001b[0m\u001b[1;32m    344\u001b[0m \u001b[0;34m\u001b[0m\u001b[0m\n\u001b[1;32m    345\u001b[0m \u001b[0;34m\u001b[0m\u001b[0m\n",
      "\u001b[0;32m/opt/conda/lib/python3.6/site-packages/tensorflow/python/ops/gen_math_ops.py\u001b[0m in \u001b[0;36msub\u001b[0;34m(x, y, name)\u001b[0m\n\u001b[1;32m  10850\u001b[0m       \u001b[0;32melse\u001b[0m\u001b[0;34m:\u001b[0m\u001b[0;34m\u001b[0m\u001b[0;34m\u001b[0m\u001b[0m\n\u001b[1;32m  10851\u001b[0m         \u001b[0mmessage\u001b[0m \u001b[0;34m=\u001b[0m \u001b[0me\u001b[0m\u001b[0;34m.\u001b[0m\u001b[0mmessage\u001b[0m\u001b[0;34m\u001b[0m\u001b[0;34m\u001b[0m\u001b[0m\n\u001b[0;32m> 10852\u001b[0;31m       \u001b[0m_six\u001b[0m\u001b[0;34m.\u001b[0m\u001b[0mraise_from\u001b[0m\u001b[0;34m(\u001b[0m\u001b[0m_core\u001b[0m\u001b[0;34m.\u001b[0m\u001b[0m_status_to_exception\u001b[0m\u001b[0;34m(\u001b[0m\u001b[0me\u001b[0m\u001b[0;34m.\u001b[0m\u001b[0mcode\u001b[0m\u001b[0;34m,\u001b[0m \u001b[0mmessage\u001b[0m\u001b[0;34m)\u001b[0m\u001b[0;34m,\u001b[0m \u001b[0;32mNone\u001b[0m\u001b[0;34m)\u001b[0m\u001b[0;34m\u001b[0m\u001b[0;34m\u001b[0m\u001b[0m\n\u001b[0m\u001b[1;32m  10853\u001b[0m   \u001b[0;31m# Add nodes to the TensorFlow graph.\u001b[0m\u001b[0;34m\u001b[0m\u001b[0;34m\u001b[0m\u001b[0;34m\u001b[0m\u001b[0m\n\u001b[1;32m  10854\u001b[0m   _, _, _op = _op_def_lib._apply_op_helper(\n",
      "\u001b[0;32m/opt/conda/lib/python3.6/site-packages/six.py\u001b[0m in \u001b[0;36mraise_from\u001b[0;34m(value, from_value)\u001b[0m\n",
      "\u001b[0;31mInvalidArgumentError\u001b[0m: Incompatible shapes: [4,1] vs. [150,4] [Op:Sub]"
     ]
    }
   ],
   "source": [
    "_nipals_tensorflow(Xt,Yt)"
   ]
  },
  {
   "cell_type": "code",
   "execution_count": null,
   "metadata": {},
   "outputs": [],
   "source": [
    "class PLS():\n",
    "    \n",
    "    def __init__()"
   ]
  }
 ],
 "metadata": {
  "kernelspec": {
   "display_name": "Python 3",
   "language": "python",
   "name": "python3"
  },
  "language_info": {
   "codemirror_mode": {
    "name": "ipython",
    "version": 3
   },
   "file_extension": ".py",
   "mimetype": "text/x-python",
   "name": "python",
   "nbconvert_exporter": "python",
   "pygments_lexer": "ipython3",
   "version": "3.6.7"
  }
 },
 "nbformat": 4,
 "nbformat_minor": 4
}
